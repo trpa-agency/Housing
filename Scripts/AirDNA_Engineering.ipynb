{
 "cells": [
  {
   "cell_type": "code",
   "execution_count": 5,
   "metadata": {},
   "outputs": [],
   "source": [
    "import pandas as pd\n",
    "from utils import *\n",
    "import re"
   ]
  },
  {
   "cell_type": "code",
   "execution_count": 3,
   "metadata": {},
   "outputs": [],
   "source": [
    "property_data = pd.read_csv('data/Tahoe_Regional_Planning_Agency_property_file_v3_2025_02_25_00_32_01.csv')\n",
    "monthly_data = pd.read_csv('data/Tahoe_Regional_Planning_Agency_monthly_file_v3_2025_02_25_00_32_06.csv')"
   ]
  },
  {
   "cell_type": "code",
   "execution_count": 6,
   "metadata": {},
   "outputs": [],
   "source": [
    "def clean_column_names(df):\n",
    "    df.columns = [\n",
    "        re.sub(r\"[^a-zA-Z0-9_]\", \"_\", col)  # Replace invalid characters with '_'\n",
    "        .lstrip(\"0123456789\")  # Ensure column names don't start with a number\n",
    "        for col in df.columns\n",
    "    ]\n",
    "    return df"
   ]
  },
  {
   "cell_type": "code",
   "execution_count": null,
   "metadata": {},
   "outputs": [],
   "source": [
    "tahoe_boundary  = get_fs_data_spatial('https://maps.trpa.org/server/rest/services/Boundaries/FeatureServer/4')"
   ]
  },
  {
   "cell_type": "code",
   "execution_count": null,
   "metadata": {},
   "outputs": [],
   "source": [
    "# create a feature layer in memory from the property data\n",
    "import arcpy\n",
    "import re\n",
    "def clean_column_names(df):\n",
    "    df.columns = [\n",
    "        re.sub(r\"[^a-zA-Z0-9_]\", \"_\", col)  # Replace invalid characters with '_'\n",
    "        .lstrip(\"0123456789\")  # Ensure column names don't start with a number\n",
    "        for col in df.columns\n",
    "    ]\n",
    "    return df\n",
    "arcpy.management.Delete(r\"in_memory\")\n",
    "# Create an in-memory feature class\n",
    "arcpy.env.workspace = \"in_memory\"\n",
    "feature_class = \"property_data\"\n",
    "property_data = clean_column_names(property_data)\n",
    "# Define the spatial reference (WGS 1984)\n",
    "spatial_reference = arcpy.SpatialReference(4326)\n",
    "\n",
    "# Create the feature class with a POINT geometry type\n",
    "arcpy.management.CreateFeatureclass(arcpy.env.workspace, feature_class, \"POINT\", spatial_reference=spatial_reference)\n",
    "\n",
    "# Dynamically add fields based on the columns in the property data DataFrame\n",
    "for column in property_data.columns:\n",
    "    if column not in ['Latitude', 'Longitude']:\n",
    "        field_type = \"TEXT\" if property_data[column].dtype == object else \"DOUBLE\"\n",
    "        arcpy.management.AddField(feature_class, column, field_type)\n",
    "\n",
    "# Insert the property data into the feature class\n",
    "with arcpy.da.InsertCursor(feature_class, [\"SHAPE@XY\"] + [column for column in property_data.columns if column not in ['Latitude', 'Longitude']]) as cursor:\n",
    "    for _, row in property_data.iterrows():\n",
    "        point = (row['Longitude'], row['Latitude'])\n",
    "        row_values = [point] + [row[column] for column in property_data.columns if column not in ['Latitude', 'Longitude']]\n",
    "        cursor.insertRow(row_values)\n",
    "\n",
    "# Create a feature layer from the in-memory feature class\n",
    "feature_layer = \"property_layer\"\n",
    "arcpy.management.MakeFeatureLayer(feature_class, feature_layer)\n",
    "\n",
    "# Print the feature layer name\n",
    "print(f\"Feature layer created: {feature_layer}\")"
   ]
  },
  {
   "cell_type": "code",
   "execution_count": null,
   "metadata": {},
   "outputs": [],
   "source": [
    "desc = arcpy.Describe(feature_layer)\n",
    "for field in desc.fields:\n",
    "    print(f\"Name: {field.name}, Type: {field.type}, Length: {field.length}\")"
   ]
  },
  {
   "cell_type": "code",
   "execution_count": null,
   "metadata": {},
   "outputs": [],
   "source": [
    "arcpy.management.AddField(feature_layer, \"Property_ID_Fixed\", \"TEXT\", field_length=500)\n",
    "arcpy.management.CalculateField(feature_layer, \"Property_ID_Fixed\", \"!Property_ID!\", \"PYTHON3\")\n",
    "arcpy.management.DeleteField(feature_layer, [\"Property_ID\"])\n",
    "arcpy.management.AlterField(feature_layer, \"Property_ID_Fixed\", new_field_name=\"Property_ID\")\n"
   ]
  },
  {
   "cell_type": "code",
   "execution_count": null,
   "metadata": {},
   "outputs": [],
   "source": [
    "\n",
    "\n",
    "# use the feature layer to select the properties that are within the Tahoe boundary\n",
    "arcpy.management.SelectLayerByLocation(feature_layer, \"INTERSECT\", tahoe_boundary)\n",
    "#write the selected properties to a new feature class\n",
    "arcpy.management.CopyFeatures(feature_layer, \"in_memory/properties_in_tahoe_1\")"
   ]
  },
  {
   "cell_type": "code",
   "execution_count": null,
   "metadata": {},
   "outputs": [],
   "source": [
    "\n",
    "import numpy as np\n",
    "\n",
    "fc = \"in_memory/properties_in_tahoe_1\"\n",
    "\n",
    "if arcpy.Exists(fc):\n",
    "    # Exclude geometry fields and any complex types\n",
    "    fields = [f.name for f in arcpy.ListFields(fc) if f.type not in (\"Geometry\", \"Raster\")]\n",
    "\n",
    "    # Convert feature class to a NumPy array\n",
    "    arr = arcpy.da.FeatureClassToNumPyArray(fc, fields)\n",
    "\n",
    "    # Flatten structured NumPy array before creating DataFrame\n",
    "    properties_in_tahoe = pd.DataFrame(arr.tolist(), columns=arr.dtype.names)\n",
    "\n",
    "    print(properties_in_tahoe.head())  # Preview the first few rows\n",
    "else:\n",
    "    print(\"Feature class not found in memory!\")\n"
   ]
  },
  {
   "cell_type": "code",
   "execution_count": 7,
   "metadata": {},
   "outputs": [],
   "source": [
    "#join the monthly data to the property data\n",
    "monthly_data = clean_column_names(monthly_data)\n",
    "#tahoe_monthly_data = pd.merge(properties_in_tahoe, monthly_data, on='Property_ID', how='inner')"
   ]
  },
  {
   "cell_type": "code",
   "execution_count": 8,
   "metadata": {},
   "outputs": [],
   "source": [
    "monthly_data.to_csv('data/tahoe_monthly_data_tabular.csv', index=False)"
   ]
  },
  {
   "cell_type": "code",
   "execution_count": null,
   "metadata": {},
   "outputs": [],
   "source": [
    "#how many features are in properties_in_tahoe_1\n",
    "result = arcpy.GetCount_management(fc)\n",
    "print(result)"
   ]
  },
  {
   "cell_type": "code",
   "execution_count": null,
   "metadata": {},
   "outputs": [],
   "source": [
    "\n",
    "# Define input and output paths\n",
    "input_fc = \"in_memory/properties_in_tahoe_1\"\n",
    "output_fc = \"F:/GIS/PROJECTS/ResearchAnalysis/VHR/AirDNA.gdb/properties_in_tahoe_1\"\n",
    "\n",
    "# Check if the in-memory feature class contains data\n",
    "count = int(arcpy.GetCount_management(input_fc)[0])\n",
    "if count > 0:\n",
    "    # Append data if there is data in the input feature class\n",
    "    arcpy.management.Append(input_fc, output_fc, \"NO_TEST\")\n",
    "    print(\"Features appended successfully.\")\n",
    "else:\n",
    "    print(\"The in-memory feature class is empty.\")"
   ]
  },
  {
   "cell_type": "code",
   "execution_count": null,
   "metadata": {},
   "outputs": [],
   "source": [
    "# create a feature class in F:\\GIS\\PROJECTS\\ResearchAnalysis\\VHR\\AirDNA.gdb from in memory fc\n",
    "arcpy.management.CopyFeatures(\"in_memory/properties_in_tahoe_1\", \"F:/GIS/PROJECTS/ResearchAnalysis/VHR/AirDNA.gdb/properties_in_tahoe_1\")\n",
    "\n"
   ]
  },
  {
   "cell_type": "code",
   "execution_count": 9,
   "metadata": {},
   "outputs": [
    {
     "name": "stdout",
     "output_type": "stream",
     "text": [
      "<class 'pandas.core.frame.DataFrame'>\n",
      "RangeIndex: 2418795 entries, 0 to 2418794\n",
      "Data columns (total 35 columns):\n",
      " #   Column                         Dtype  \n",
      "---  ------                         -----  \n",
      " 0   Property_ID                    object \n",
      " 1   Property_Type                  object \n",
      " 2   Listing_Type                   object \n",
      " 3   Bedrooms                       float64\n",
      " 4   Reporting_Month                object \n",
      " 5   Occupancy_Rate                 float64\n",
      " 6   Active_Listing_Nights          int64  \n",
      " 7   Currency                       object \n",
      " 8   Revenue__USD_                  float64\n",
      " 9   Revenue_Potential__USD_        float64\n",
      " 10  ADR__USD_                      float64\n",
      " 11  Cleaning_Fee_Total__USD_       float64\n",
      " 12  Number_of_Reservations         int64  \n",
      " 13  Reservation_Days               int64  \n",
      " 14  Available_Days                 int64  \n",
      " 15  Blocked_Days                   int64  \n",
      " 16  Country                        object \n",
      " 17  State                          object \n",
      " 18  City                           object \n",
      " 19  Postal_Code                    float64\n",
      " 20  Neighborhood                   object \n",
      " 21  Metropolitan_Statistical_Area  object \n",
      " 22  Latitude                       float64\n",
      " 23  Longitude                      float64\n",
      " 24  Active                         bool   \n",
      " 25  Scraped_During_Month           bool   \n",
      " 26  Airbnb_Property_ID             float64\n",
      " 27  Airbnb_Host_ID                 float64\n",
      " 28  Vrbo_Property_ID               object \n",
      " 29  Vrbo_Host_ID                   float64\n",
      " 30  Property_Manager               object \n",
      " 31  Revenue__Native_               float64\n",
      " 32  ADR__Native_                   float64\n",
      " 33  Revenue_Potential__Native_     float64\n",
      " 34  Cleaning_Fee_Total__Native_    float64\n",
      "dtypes: bool(2), float64(16), int64(5), object(12)\n",
      "memory usage: 613.6+ MB\n"
     ]
    }
   ],
   "source": [
    "monthly_data.info()"
   ]
  },
  {
   "cell_type": "code",
   "execution_count": 11,
   "metadata": {},
   "outputs": [
    {
     "name": "stderr",
     "output_type": "stream",
     "text": [
      "c:\\Users\\amcclary\\AppData\\Local\\ESRI\\conda\\envs\\arcgispro-py3-plotly\\Lib\\site-packages\\pandas\\core\\dtypes\\cast.py:1066: RuntimeWarning: invalid value encountered in cast\n",
      "  if (arr.astype(int) == arr).all():\n",
      "c:\\Users\\amcclary\\AppData\\Local\\ESRI\\conda\\envs\\arcgispro-py3-plotly\\Lib\\site-packages\\pandas\\core\\dtypes\\cast.py:1091: RuntimeWarning: invalid value encountered in cast\n",
      "  if (arr.astype(int) == arr).all():\n"
     ]
    }
   ],
   "source": [
    "#read in feature class from geodatabase\n",
    "property_fc = \"F:\\GIS\\PROJECTS\\ResearchAnalysis\\VHR\\Data\\VHR_Staging.gdb\\properties_final\"\n",
    "property_data = pd.DataFrame.spatial.from_featureclass(property_fc)"
   ]
  },
  {
   "cell_type": "code",
   "execution_count": 12,
   "metadata": {},
   "outputs": [],
   "source": [
    "tahoe_monthly_data = pd.merge(property_data, monthly_data, on='Property_ID', how='inner')"
   ]
  },
  {
   "cell_type": "code",
   "execution_count": 24,
   "metadata": {},
   "outputs": [],
   "source": [
    "#This could be analyzed at different geographies\n",
    "# Group by reporting month and zoningID and sum active listing nights and reservation days\n",
    "tahoe_monthly_data_grouped_zoning = tahoe_monthly_data.groupby(['Reporting_Month', 'ZONING_ID','JURISDICTION', 'Real_Estate_Property_Type']).agg({\n",
    "    'Active_Listing_Nights': 'sum',\n",
    "    'Reservation_Days': 'sum'\n",
    "}).reset_index()\n",
    "# Calculate the ratio of reservation days to active listing nights but if the reservation days is 0 then make the ratio 0\n",
    "tahoe_monthly_data_grouped_zoning['Occupancy_Rate'] = np.where(\n",
    "    tahoe_monthly_data_grouped_zoning['Active_Listing_Nights'] == 0, 0,\n",
    "    tahoe_monthly_data_grouped_zoning['Reservation_Days'] / tahoe_monthly_data_grouped_zoning['Active_Listing_Nights']\n",
    ")\n"
   ]
  },
  {
   "cell_type": "code",
   "execution_count": 23,
   "metadata": {},
   "outputs": [],
   "source": [
    "#This could be analyzed at different geographies\n",
    "# Group by reporting month and zoningID and sum active listing nights and reservation days\n",
    "tahoe_monthly_data_grouped_taz = tahoe_monthly_data.groupby(['Reporting_Month', 'TAZ','JURISDICTION', 'Real_Estate_Property_Type']).agg({\n",
    "    'Active_Listing_Nights': 'sum',\n",
    "    'Reservation_Days': 'sum'\n",
    "}).reset_index()\n",
    "# Calculate the ratio of reservation days to active listing nights but if the reservation days is 0 then make the ratio 0\n",
    "tahoe_monthly_data_grouped_taz['Occupancy_Rate'] = np.where(\n",
    "    tahoe_monthly_data_grouped_taz['Active_Listing_Nights'] == 0, 0,\n",
    "    tahoe_monthly_data_grouped_taz['Reservation_Days'] / tahoe_monthly_data_grouped_taz['Active_Listing_Nights']\n",
    ")\n"
   ]
  },
  {
   "cell_type": "code",
   "execution_count": 25,
   "metadata": {},
   "outputs": [],
   "source": [
    "tahoe_monthly_data_grouped_taz.to_csv('data/tahoe_monthly_data_grouped_taz.csv', index=False)\n",
    "tahoe_monthly_data_grouped_zoning.to_csv('data/tahoe_monthly_data_grouped_zoning.csv', index=False)"
   ]
  },
  {
   "cell_type": "code",
   "execution_count": 29,
   "metadata": {},
   "outputs": [],
   "source": [
    "CSLT_monthly_data_active_2023 = tahoe_monthly_data.loc[tahoe_monthly_data['JURISDICTION'] == 'City of South Lake Tahoe' ]\n",
    "CSLT_monthly_data_active_2023 = CSLT_monthly_data_active_2023.loc[tahoe_monthly_data['Reporting_Month']>'2022-12-01']\n",
    "CSLT_monthly_data_active_2023.to_csv('data/CSLT_Data_2023.csv')"
   ]
  },
  {
   "cell_type": "code",
   "execution_count": 32,
   "metadata": {},
   "outputs": [],
   "source": [
    "CSLT_monthly_data_active_2023_grouped = CSLT_monthly_data_active_2023.groupby(['Property_ID','ZONING_ID']).agg({\n",
    "    'Active_Listing_Nights': 'sum',\n",
    "    'Reservation_Days': 'sum'\n",
    "}).reset_index()\n",
    "CSLT_monthly_data_active_2023_grouped = CSLT_monthly_data_active_2023_grouped.loc[CSLT_monthly_data_active_2023_grouped['Active_Listing_Nights']>0]\n",
    "CSLT_monthly_data_active_2023_grouped.to_csv('data/active_CSLT_Properties.csv')"
   ]
  }
 ],
 "metadata": {
  "kernelspec": {
   "display_name": "Python 3",
   "language": "python",
   "name": "python3"
  },
  "language_info": {
   "codemirror_mode": {
    "name": "ipython",
    "version": 3
   },
   "file_extension": ".py",
   "mimetype": "text/x-python",
   "name": "python",
   "nbconvert_exporter": "python",
   "pygments_lexer": "ipython3",
   "version": "3.11.10"
  }
 },
 "nbformat": 4,
 "nbformat_minor": 2
}
