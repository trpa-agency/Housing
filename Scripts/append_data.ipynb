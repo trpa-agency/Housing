{
 "cells": [
  {
   "cell_type": "code",
   "execution_count": 1,
   "metadata": {},
   "outputs": [],
   "source": [
    "import pandas as pd\n",
    "import numpy as np\n",
    "import requests\n",
    "import pyodbc\n",
    "import arcpy\n",
    "import os\n",
    "from arcgis.features import FeatureLayer\n",
    "import glob\n",
    "import shutil\n",
    "\n",
    "\n",
    "# Need to define datatypes so that FIPS code doesn't get cast as int and drop leading 0s\n",
    "dtypes = {\n",
    "    'YEAR' : str,\n",
    "    'STATE': str,\n",
    "    'GEOGRAPHY': str,\n",
    "    'GEOID': str,\n",
    "    'TRPAID':str,\n",
    "    'NEIGHBORHOOD': str\n",
    "}\n"
   ]
  },
  {
   "cell_type": "code",
   "execution_count": 2,
   "metadata": {},
   "outputs": [],
   "source": [
    "#add a leading 0 to the TRPAID column if the length is 15\n",
    "def add_leading_zero_based_on_condition(row):\n",
    "    if row['sample_level'] == 'tract' and len(row['TRPAID']) == 14:\n",
    "        return row['TRPAID'].zfill(15)\n",
    "    elif row['sample_level'] == 'block group' and len(row['TRPAID']) == 15:\n",
    "        return row['TRPAID'].zfill(16)\n",
    "    else:\n",
    "        return row['TRPAID']\n",
    "\n",
    "    combined_csv['TRPAID'] = combined_csv['TRPAID'].astype(str)\n",
    "    combined_csv['TRPAID'] = combined_csv.apply(add_leading_zero_based_on_condition, axis=1)\n",
    "    combined_csv\n",
    "    combined_csv['state'] = combined_csv['state'].astype(str).str.zfill(2)\n",
    "    combined_csv['county'] = combined_csv['county'].astype(str).str.zfill(3)\n",
    "    # Drop rows with a missing value\n",
    "    combined_csv = combined_csv.dropna(subset=['value'])\n",
    "    combined_csv.to_csv('combined_csv.csv', index=False)"
   ]
  },
  {
   "cell_type": "code",
   "execution_count": 3,
   "metadata": {},
   "outputs": [],
   "source": [
    "combined_csv = pd.read_csv(r'C:\\Users\\amcclary\\Documents\\GitHub\\Housing\\Scripts\\Summarized_Data\\education.csv')\n",
    "combined_csv['TRPAID'] = combined_csv['GEO_ID'].astype(str) + combined_csv['census_geom_year'].astype(str)"
   ]
  },
  {
   "cell_type": "code",
   "execution_count": 4,
   "metadata": {},
   "outputs": [],
   "source": [
    "#add a leading 0 to the TRPAID column if the length is 15\n",
    "def add_leading_zero_based_on_condition(row):\n",
    "    if row['sample_level'] == 'tract' and len(row['TRPAID']) == 14:\n",
    "        return row['TRPAID'].zfill(15)\n",
    "    elif row['sample_level'] == 'block group' and len(row['TRPAID']) == 15:\n",
    "        return row['TRPAID'].zfill(16)\n",
    "    else:\n",
    "        return row['TRPAID']\n",
    "combined_csv['TRPAID'] = combined_csv.apply(add_leading_zero_based_on_condition, axis=1)"
   ]
  },
  {
   "cell_type": "code",
   "execution_count": 5,
   "metadata": {},
   "outputs": [
    {
     "name": "stdout",
     "output_type": "stream",
     "text": [
      "<class 'pandas.core.frame.DataFrame'>\n",
      "RangeIndex: 155 entries, 0 to 154\n",
      "Data columns (total 20 columns):\n",
      " #   Column             Non-Null Count  Dtype  \n",
      "---  ------             --------------  -----  \n",
      " 0   GEO_ID             155 non-null    int64  \n",
      " 1   value              155 non-null    float64\n",
      " 2   MarginOfError      0 non-null      float64\n",
      " 3   state              155 non-null    int64  \n",
      " 4   county             155 non-null    int64  \n",
      " 5   tract              155 non-null    int64  \n",
      " 6   block_group        0 non-null      float64\n",
      " 7   variable_code      155 non-null    string \n",
      " 8   variable_name      155 non-null    string \n",
      " 9   variable_category  155 non-null    string \n",
      " 10  year_sample        155 non-null    int64  \n",
      " 11  sample_level       155 non-null    string \n",
      " 12  dataset            155 non-null    string \n",
      " 13  census_geom_year   155 non-null    float64\n",
      " 14  TRPAID             155 non-null    string \n",
      " 15  NEIGHBORHOOD       155 non-null    string \n",
      " 16  Data_Scale         0 non-null      float64\n",
      " 17  north_south        155 non-null    string \n",
      " 18  county_name        155 non-null    string \n",
      " 19  state_name         155 non-null    string \n",
      "dtypes: float64(5), int64(5), string(10)\n",
      "memory usage: 24.3 KB\n"
     ]
    }
   ],
   "source": [
    "clean_csv = combined_csv.copy()\n",
    "\n",
    "# Convert all columns of type 'object' to 'string'\n",
    "clean_csv = clean_csv.astype({col: 'string' for col in clean_csv.select_dtypes(include='object').columns})\n",
    "\n",
    "clean_csv.info()"
   ]
  },
  {
   "cell_type": "code",
   "execution_count": null,
   "metadata": {},
   "outputs": [],
   "source": [
    "clean_csv = clean_csv.loc[:, ~clean_csv.columns.str.contains('^Unnamed')]\n",
    "clean_csv['NEIGHBORHOOD'] = clean_csv['NEIGHBORHOOD'].fillna(\"\")"
   ]
  },
  {
   "cell_type": "code",
   "execution_count": 6,
   "metadata": {},
   "outputs": [
    {
     "name": "stdout",
     "output_type": "stream",
     "text": [
      "Table 'Housing_Metrics_Education' created and populated in F:\\GIS\\PROJECTS\\ResearchAnalysis\\Demographics\\Workspace.gdb\n"
     ]
    }
   ],
   "source": [
    "\n",
    "clean_csv['GEO_ID'] = clean_csv['GEO_ID'].astype(str)\n",
    "type_mapping = {\n",
    "    'int64': 'LONG',\n",
    "    'float64': 'DOUBLE',\n",
    "    'object': 'TEXT',\n",
    "    'string': 'TEXT',\n",
    "    'datetime64[ns]': 'DATE'\n",
    "}\n",
    "\n",
    "# Set up geodatabase and output table name\n",
    "gdb_path = r\"F:\\GIS\\PROJECTS\\ResearchAnalysis\\Demographics\\Workspace.gdb\"\n",
    "output_table = \"Housing_Metrics_Education\"\n",
    "output_path = f\"{gdb_path}\\\\{output_table}\"\n",
    "if arcpy.Exists(output_path):\n",
    "    arcpy.management.Delete(output_path)\n",
    "    print(f\"Deleted existing table: {output_table}\")\n",
    "# Create the table in the geodatabase\n",
    "arcpy.management.CreateTable(gdb_path, output_table)\n",
    "\n",
    "# Add fields based on DataFrame dtypes\n",
    "for col_name, dtype in clean_csv.dtypes.items():\n",
    "    arcgis_type = type_mapping.get(str(dtype), 'TEXT')  # Default to TEXT if dtype is unknown\n",
    "    if arcgis_type == 'TEXT':\n",
    "        arcpy.management.AddField(output_path, col_name, arcgis_type, field_length=255)\n",
    "    else:\n",
    "        arcpy.management.AddField(output_path, col_name, arcgis_type)\n",
    "\n",
    "# Insert data into the table\n",
    "with arcpy.da.InsertCursor(output_path, clean_csv.columns.tolist()) as cursor:\n",
    "    for _, row in clean_csv.iterrows():\n",
    "        cursor.insertRow(row.tolist())\n",
    "\n",
    "print(f\"Table '{output_table}' created and populated in {gdb_path}\")"
   ]
  },
  {
   "cell_type": "code",
   "execution_count": 9,
   "metadata": {},
   "outputs": [
    {
     "name": "stdout",
     "output_type": "stream",
     "text": [
      "   A  B  C\n",
      "0  5  5  x\n",
      "1  2  6  y\n",
      "3  5  8  z\n"
     ]
    }
   ],
   "source": [
    "import pandas as pd\n",
    "\n",
    "# Example DataFrame\n",
    "df = pd.DataFrame({\n",
    "    'A': [5, 2, 2, 5],\n",
    "    'B': [5, 6, 6, 8],\n",
    "    'C': ['x', 'y', 'y', 'z']\n",
    "})\n",
    "\n",
    "# Remove duplicate rows\n",
    "df_unique = df.drop_duplicates()\n",
    "\n",
    "print(df_unique)\n"
   ]
  },
  {
   "cell_type": "code",
   "execution_count": null,
   "metadata": {},
   "outputs": [],
   "source": [
    "#remove duplicate rows from clean_csv\n",
    "clean_csv = clean_csv.drop_duplicates()\n",
    "unique_values = clean_csv"
   ]
  }
 ],
 "metadata": {
  "kernelspec": {
   "display_name": "Python 3",
   "language": "python",
   "name": "python3"
  },
  "language_info": {
   "codemirror_mode": {
    "name": "ipython",
    "version": 3
   },
   "file_extension": ".py",
   "mimetype": "text/x-python",
   "name": "python",
   "nbconvert_exporter": "python",
   "pygments_lexer": "ipython3",
   "version": "3.11.10"
  }
 },
 "nbformat": 4,
 "nbformat_minor": 2
}
