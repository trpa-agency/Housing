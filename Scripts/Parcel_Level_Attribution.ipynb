{
 "cells": [
  {
   "cell_type": "code",
   "execution_count": null,
   "metadata": {},
   "outputs": [],
   "source": [
    "# import packages\n",
    "import pandas as pd\n",
    "import pathlib\n",
    "from pathlib import Path\n",
    "import os\n",
    "import arcpy\n",
    "from utils import *\n",
    "import numpy as np\n",
    "import pickle"
   ]
  },
  {
   "cell_type": "markdown",
   "metadata": {},
   "source": [
    "# Make sdf from parcel master"
   ]
  },
  {
   "cell_type": "code",
   "execution_count": null,
   "metadata": {},
   "outputs": [],
   "source": [
    "\n",
    "filePath = \"F:/GIS/PARCELUPDATE/Workspace/\"\n",
    "sdeEdit    = os.path.join(filePath, \"Edit.sde\")\n",
    "# parcel feature class years to use for all cumulative accounting data\n",
    "years = [2012, 2018, 2019, 2020, 2021, 2022, 2023]\n",
    "\n",
    "# parcel development layer polygons\n",
    "parcel_db = Path(sdeEdit) / \"SDE.Parcel\\\\SDE.Parcel_History_Attributed\"\n",
    "# query 2022 rows\n",
    "sdf_units = pd.DataFrame.spatial.from_featureclass(parcel_db)\n",
    "# filter to years\n",
    "sdf_units = sdf_units.loc[sdf_units['YEAR'].isin(years)]"
   ]
  },
  {
   "cell_type": "code",
   "execution_count": null,
   "metadata": {},
   "outputs": [],
   "source": [
    "# Bring in demographic data for households and population\n",
    "sr = arcpy.SpatialReference(26910)\n",
    "# block group feature layer polygons\n",
    "block_groups_url = 'https://maps.trpa.org/server/rest/services/Demographics/MapServer/27'\n",
    "sdf_census_geo = get_fs_data_spatial(block_groups_url)\n",
    "sdf_block = sdf_census_geo.loc[(sdf_census_geo['YEAR'] == 2020) & (sdf_census_geo['GEOGRAPHY'] == 'Block Group')]\n",
    "sdf_block.spatial.sr = sr\n",
    "sdf_tract = sdf_census_geo.loc[(sdf_census_geo['YEAR'] == 2020) & (sdf_census_geo['GEOGRAPHY'] == 'Tract')]\n",
    "sdf_tract.spatial.sr = sr"
   ]
  },
  {
   "cell_type": "code",
   "execution_count": null,
   "metadata": {},
   "outputs": [],
   "source": [
    "# bring in demogrpahic data\n",
    "census_url = 'https://maps.trpa.org/server/rest/services/Demographics/MapServer/28'\n",
    "df_census = get_fs_data(census_url)"
   ]
  },
  {
   "cell_type": "markdown",
   "metadata": {},
   "source": [
    "# Generate a list of variables and geographies that we want to summarize at the parcel level"
   ]
  },
  {
   "cell_type": "code",
   "execution_count": null,
   "metadata": {},
   "outputs": [],
   "source": [
    "import numpy as np\n",
    "\n",
    "def calculate_occupancy_rates(df, year, occupancy_vars):\n",
    "    \"\"\"\n",
    "    Calculate occupancy and seasonal rates at the block group level.\n",
    "\n",
    "    Parameters:\n",
    "    df (pd.DataFrame): Census data with 'TRPAID', 'variable_code', 'value', and 'Year' columns.\n",
    "    year (int): The year of interest.\n",
    "    occupancy_vars (dict): A dictionary mapping descriptive variable names to census codes.\n",
    "                           Example: {\n",
    "                               'vacant_units': 'B25002_003E',\n",
    "                               'occupied_units': 'B25002_002E',\n",
    "                               'seasonal_units': 'B25004_006E'\n",
    "                           }\n",
    "\n",
    "    Returns:\n",
    "    pd.DataFrame: DataFrame with occupancy and seasonal rates.\n",
    "    \"\"\"\n",
    "    \n",
    "    # Filter data for selected year and census codes\n",
    "    df_filtered = df.query(\"variable_code in @occupancy_vars.values() and year_sample == @year\")\n",
    "    \n",
    "    # Pivot to wide format\n",
    "    df_pivot = df_filtered.pivot(index='TRPAID', columns='variable_code', values='value')\n",
    "    \n",
    "    # Rename columns based on the provided dictionary\n",
    "    df_pivot = df_pivot.rename(columns={v: k for k, v in occupancy_vars.items()})\n",
    "\n",
    "    # Calculate total units\n",
    "    df_pivot['total_units'] = df_pivot['vacant_units'] + df_pivot['occupied_units']\n",
    "\n",
    "    # Avoid division by zero\n",
    "    df_pivot['occupancy_rate'] = df_pivot['occupied_units'] / df_pivot['total_units'].replace(0, np.nan)\n",
    "    df_pivot['seasonal_rate'] = df_pivot['seasonal_units'] / df_pivot['total_units'].replace(0, np.nan)\n",
    "\n",
    "    # Reset index for clarity\n",
    "    return df_pivot.reset_index()\n"
   ]
  },
  {
   "cell_type": "code",
   "execution_count": null,
   "metadata": {},
   "outputs": [],
   "source": [
    "occupancy_codes = {\n",
    "    'vacant_units': 'B25002_003E',\n",
    "    'occupied_units': 'B25002_002E',\n",
    "    'seasonal_units': 'B25004_006E',\n",
    "    'household_size': 'B25010_001E'\n",
    "}\n",
    "# We should add population\n",
    "df_census = df_census.loc[df_census['sample_level'] == 'block group']\n",
    "df_occupancy = calculate_occupancy_rates(df_census, 2023, occupancy_codes)"
   ]
  },
  {
   "cell_type": "code",
   "execution_count": null,
   "metadata": {},
   "outputs": [],
   "source": [
    "with arcpy.EnvManager(outputZFlag=\"Disabled\"):\n",
    "    arcpy.conversion.FeatureClassToGeodatabase(\n",
    "        Input_Features=r\"F:\\GIS\\DB_CONNECT\\Vector.sde\\SDE.Census\\SDE.Tahoe_Census_Geography\",\n",
    "        Output_Geodatabase=r\"C:\\GIS\\Scratch.gdb\"\n",
    "    )\n",
    "\n",
    "sdf_block_noz = pd.DataFrame.spatial.from_featureclass('C:/GIS/Scratch.gdb/Tahoe_Census_Geography')\n",
    "sdf_block_noz = sdf_block_noz.loc[(sdf_block_noz['YEAR'] == 2020) & (sdf_block_noz['GEOGRAPHY'] == 'Block Group')]\n",
    "sdf_block_noz.spatial.sr = sr\n",
    "\n",
    "sdf_tract_noz = pd.DataFrame.spatial.from_featureclass('C:/GIS/Scratch.gdb/Tahoe_Census_Geography')\n",
    "sdf_tract_noz = sdf_tract_noz.loc[(sdf_tract_noz['YEAR'] == 2020) & (sdf_tract_noz['GEOGRAPHY'] == 'Tract')]    \n",
    "sdf_tract_noz.spatial.sr = sr"
   ]
  },
  {
   "cell_type": "code",
   "execution_count": null,
   "metadata": {},
   "outputs": [],
   "source": [
    "sdf_tract_noz = pd.DataFrame.spatial.from_featureclass('C:/GIS/Scratch.gdb/Tahoe_Census_Geography')\n",
    "sdf_tract_noz = sdf_tract_noz.loc[(sdf_tract_noz['YEAR'] == 2020) & (sdf_tract_noz['GEOGRAPHY'] == 'Tract')]    \n",
    "sdf_tract_noz.spatial.sr = sr"
   ]
  },
  {
   "cell_type": "code",
   "execution_count": null,
   "metadata": {},
   "outputs": [],
   "source": [
    "# set environement workspace to in memory \n",
    "arcpy.env.workspace = 'memory'"
   ]
  },
  {
   "cell_type": "code",
   "execution_count": null,
   "metadata": {},
   "outputs": [],
   "source": [
    "# spatial join to get Block Group\n",
    "arcpy.SpatialJoin_analysis(sdf_units, sdf_block_noz, \"Existing_Development_BlockGroup\", \n",
    "                           \"JOIN_ONE_TO_ONE\", \"KEEP_ALL\", \"\", \"HAVE_THEIR_CENTER_IN\")\n",
    "# spatial join to get Tract\n",
    "arcpy.SpatialJoin_analysis(sdf_units, sdf_tract_noz, \"Existing_Development_Tract\", \n",
    "                           \"JOIN_ONE_TO_ONE\", \"KEEP_ALL\", \"\", \"HAVE_THEIR_CENTER_IN\")"
   ]
  },
  {
   "cell_type": "code",
   "execution_count": null,
   "metadata": {},
   "outputs": [],
   "source": [
    "\n",
    "sdf_units_block = pd.DataFrame.spatial.from_featureclass(\"Existing_Development_BlockGroup\", sr=sr)\n",
    "sdf_units_tract = pd.DataFrame.spatial.from_featureclass(\"Existing_Development_Tract\", sr=sr)"
   ]
  },
  {
   "cell_type": "code",
   "execution_count": null,
   "metadata": {},
   "outputs": [],
   "source": [
    "sdfParcel = sdf_units"
   ]
  },
  {
   "cell_type": "code",
   "execution_count": null,
   "metadata": {},
   "outputs": [],
   "source": [
    "sdfParcel['BLOCK_GROUP']   = sdfParcel.APN.map(dict(zip(sdf_units_block.APN, sdf_units_block.TRPAID)))\n",
    "sdfParcel['TRACT']        = sdfParcel.APN.map(dict(zip(sdf_units_tract.APN, sdf_units_tract.TRPAID)))"
   ]
  },
  {
   "cell_type": "code",
   "execution_count": null,
   "metadata": {},
   "outputs": [],
   "source": [
    "sdfParcel.to_pickle('parcel_pickle_part1.pkl')"
   ]
  },
  {
   "cell_type": "code",
   "execution_count": null,
   "metadata": {},
   "outputs": [],
   "source": [
    "sdfParcel_2023 = sdfParcel.loc[sdfParcel['YEAR'] == 2023]"
   ]
  },
  {
   "cell_type": "code",
   "execution_count": null,
   "metadata": {},
   "outputs": [],
   "source": [
    "sdfParcel_2023['occupied_rate'] = sdfParcel_2023['BLOCK_GROUP'].map(dict(zip(df_occupancy.TRPAID, df_occupancy.occupancy_rate)))\n",
    "sdfParcel_2023['seasonal_rate'] = sdfParcel_2023['BLOCK_GROUP'].map(dict(zip(df_occupancy.TRPAID, df_occupancy.seasonal_rate)))\n",
    "sdfParcel_2023['household_size'] = sdfParcel_2023['BLOCK_GROUP'].map(dict(zip(df_occupancy.TRPAID, df_occupancy.household_size)))"
   ]
  },
  {
   "cell_type": "code",
   "execution_count": null,
   "metadata": {},
   "outputs": [],
   "source": [
    "sdfParcel_2023['occupied_units']=   sdfParcel_2023['occupied_rate'] * sdfParcel_2023['Residential_Units']\n",
    "sdfParcel_2023['seasonal_units']=  sdfParcel_2023['seasonal_rate'] * sdfParcel_2023['Residential_Units']\n",
    "sdfParcel_2023['num_of_residents'] = sdfParcel_2023['household_size'] * sdfParcel_2023['occupied_units']"
   ]
  },
  {
   "cell_type": "code",
   "execution_count": null,
   "metadata": {},
   "outputs": [],
   "source": [
    "tesselation = get_fs_data_spatial('https://maps.trpa.org/server/rest/services/Transportation_Equity_Analysis_Tessellation/FeatureServer/0')"
   ]
  },
  {
   "cell_type": "code",
   "execution_count": null,
   "metadata": {},
   "outputs": [],
   "source": [
    "# spatial join to get GRID_ID\n",
    "arcpy.SpatialJoin_analysis(sdf_units, tesselation, \"Existing_Development_Hex\", \n",
    "                           \"JOIN_ONE_TO_ONE\", \"KEEP_ALL\", \"\", \"HAVE_THEIR_CENTER_IN\")"
   ]
  },
  {
   "cell_type": "code",
   "execution_count": null,
   "metadata": {},
   "outputs": [],
   "source": [
    "sdf_units_hex = pd.DataFrame.spatial.from_featureclass(\"Existing_Development_Hex\", sr=sr)\n",
    "sdfParcel['GRID_ID']        = sdfParcel.APN.map(dict(zip(sdf_units_tract.APN, sdf_units_tract.TRPAID)))"
   ]
  },
  {
   "cell_type": "code",
   "execution_count": null,
   "metadata": {},
   "outputs": [],
   "source": [
    "sdfParcel_2023['GRID_ID'] = sdfParcel_2023.APN.map(dict(zip(sdf_units_hex.APN, sdf_units_hex.GRID_ID)))"
   ]
  },
  {
   "cell_type": "code",
   "execution_count": null,
   "metadata": {},
   "outputs": [],
   "source": [
    "# group by GRID_ID and sum the values for occupied_units, seasonal_units, and num_of_residents\n",
    "sdfParcel_2023_grouped = sdfParcel_2023.groupby('GRID_ID').agg({\n",
    "    'occupied_units': 'sum',\n",
    "    'seasonal_units': 'sum',\n",
    "    'num_of_residents': 'sum'\n",
    "}).reset_index()\n",
    "sdfParcel_2023_grouped['total_units'] = sdfParcel_2023_grouped['occupied_units'] + sdfParcel_2023_grouped['seasonal_units']\n",
    "sdfParcel_2023_grouped['occupied_unit_rate'] = sdfParcel_2023_grouped['occupied_units']/sdfParcel_2023_grouped['total_units'].replace(0, np.nan)\n",
    "sdfParcel_2023_grouped['seasonal_unit_rate'] = sdfParcel_2023_grouped['seasonal_units']/sdfParcel_2023_grouped['total_units'].replace(0, np.nan)"
   ]
  },
  {
   "cell_type": "code",
   "execution_count": null,
   "metadata": {},
   "outputs": [],
   "source": [
    "sdfParcel_2023_grouped['occupied_unit_rate'] = sdfParcel_2023_grouped['occupied_unit_rate'].fillna(0)\n",
    "sdfParcel_2023_grouped['seasonal_unit_rate'] = sdfParcel_2023_grouped['seasonal_unit_rate'].fillna(0)"
   ]
  },
  {
   "cell_type": "code",
   "execution_count": null,
   "metadata": {},
   "outputs": [],
   "source": [
    "tesselation_attributed = tesselation.merge(sdfParcel_2023_grouped, on='GRID_ID', how='left')\n",
    "tesselation_attributed['occupied_unit_rate'] = tesselation_attributed['occupied_unit_rate'].fillna(0)\n",
    "tesselation_attributed['seasonal_unit_rate'] = tesselation_attributed['seasonal_unit_rate'].fillna(0)\n",
    "tesselation_attributed['occupied_units'] = tesselation_attributed['occupied_units'].fillna(0)\n",
    "tesselation_attributed['seasonal_units'] = tesselation_attributed['seasonal_units'].fillna(0)\n",
    "tesselation_attributed['num_of_residents'] = tesselation_attributed['num_of_residents'].fillna(0)\n",
    "tesselation_attributed['total_units'] = tesselation_attributed['total_units'].fillna(0)"
   ]
  },
  {
   "cell_type": "code",
   "execution_count": null,
   "metadata": {},
   "outputs": [],
   "source": [
    "# export tesselation_attributed to a shapefile correctly\n",
    "output_path = 'C:\\GIS\\Scratch.gdb\\Tessellation_Attributed'   \n",
    "arcpy.management.CopyFeatures(tesselation_attributed, output_path)"
   ]
  },
  {
   "cell_type": "code",
   "execution_count": null,
   "metadata": {},
   "outputs": [],
   "source": [
    "# make a feature class from the centroid of tesselation attributed\n",
    "export_fc = 'C:\\GIS\\Scratch.gdb\\Tessellation_2023'\n",
    "arcpy.management.FeatureToPoint(tesselation_attributed, export_fc, \"CENTROID\")"
   ]
  }
 ],
 "metadata": {
  "kernelspec": {
   "display_name": "Python 3",
   "language": "python",
   "name": "python3"
  },
  "language_info": {
   "codemirror_mode": {
    "name": "ipython",
    "version": 3
   },
   "file_extension": ".py",
   "mimetype": "text/x-python",
   "name": "python",
   "nbconvert_exporter": "python",
   "pygments_lexer": "ipython3",
   "version": "3.11.10"
  }
 },
 "nbformat": 4,
 "nbformat_minor": 2
}
