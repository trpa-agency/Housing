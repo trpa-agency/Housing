{
 "cells": [
  {
   "cell_type": "code",
   "execution_count": 2,
   "metadata": {},
   "outputs": [],
   "source": [
    "# import packages\n",
    "import pandas as pd\n",
    "import pathlib\n",
    "from pathlib import Path\n",
    "import os\n",
    "import arcpy\n",
    "from utils import *\n",
    "import numpy as np\n",
    "import pickle"
   ]
  },
  {
   "cell_type": "markdown",
   "metadata": {},
   "source": [
    "# Make sdf from parcel master"
   ]
  },
  {
   "cell_type": "code",
   "execution_count": 3,
   "metadata": {},
   "outputs": [
    {
     "name": "stderr",
     "output_type": "stream",
     "text": [
      "c:\\Users\\amcclary\\AppData\\Local\\ESRI\\conda\\envs\\arcgispro-py3-plotly\\Lib\\site-packages\\pandas\\core\\dtypes\\cast.py:1066: RuntimeWarning: invalid value encountered in cast\n",
      "  if (arr.astype(int) == arr).all():\n",
      "c:\\Users\\amcclary\\AppData\\Local\\ESRI\\conda\\envs\\arcgispro-py3-plotly\\Lib\\site-packages\\pandas\\core\\dtypes\\cast.py:1091: RuntimeWarning: invalid value encountered in cast\n",
      "  if (arr.astype(int) == arr).all():\n"
     ]
    }
   ],
   "source": [
    "\n",
    "filePath = \"F:/GIS/PARCELUPDATE/Workspace/\"\n",
    "sdeEdit    = os.path.join(filePath, \"Edit.sde\")\n",
    "# parcel feature class years to use for all cumulative accounting data\n",
    "years = [2012, 2018, 2019, 2020, 2021, 2022, 2023]\n",
    "\n",
    "# parcel development layer polygons\n",
    "parcel_db = Path(sdeEdit) / \"SDE.Parcel\\\\SDE.Parcel_History_Attributed\"\n",
    "# query 2022 rows\n",
    "sdf_units = pd.DataFrame.spatial.from_featureclass(parcel_db)\n",
    "# filter to years\n",
    "sdf_units = sdf_units.loc[sdf_units['YEAR'].isin(years)]"
   ]
  },
  {
   "cell_type": "code",
   "execution_count": 3,
   "metadata": {},
   "outputs": [
    {
     "name": "stderr",
     "output_type": "stream",
     "text": [
      "c:\\Users\\amcclary\\AppData\\Local\\ESRI\\conda\\envs\\arcgispro-py3-plotly\\Lib\\site-packages\\arcgis\\features\\geo\\_accessor.py:1527: SettingWithCopyWarning: \n",
      "A value is trying to be set on a copy of a slice from a DataFrame.\n",
      "Try using .loc[row_indexer,col_indexer] = value instead\n",
      "\n",
      "See the caveats in the documentation: https://pandas.pydata.org/pandas-docs/stable/user_guide/indexing.html#returning-a-view-versus-a-copy\n",
      "  self._data[col] = array\n",
      "c:\\Users\\amcclary\\AppData\\Local\\ESRI\\conda\\envs\\arcgispro-py3-plotly\\Lib\\site-packages\\arcgis\\features\\geo\\_accessor.py:1527: SettingWithCopyWarning: \n",
      "A value is trying to be set on a copy of a slice from a DataFrame.\n",
      "Try using .loc[row_indexer,col_indexer] = value instead\n",
      "\n",
      "See the caveats in the documentation: https://pandas.pydata.org/pandas-docs/stable/user_guide/indexing.html#returning-a-view-versus-a-copy\n",
      "  self._data[col] = array\n"
     ]
    }
   ],
   "source": [
    "# Bring in demographic data for households and population\n",
    "sr = arcpy.SpatialReference(26910)\n",
    "# block group feature layer polygons\n",
    "block_groups_url = 'https://maps.trpa.org/server/rest/services/Demographics/MapServer/27'\n",
    "sdf_census_geo = get_fs_data_spatial(block_groups_url)\n",
    "sdf_block = sdf_census_geo.loc[(sdf_census_geo['YEAR'] == 2020) & (sdf_census_geo['GEOGRAPHY'] == 'Block Group')]\n",
    "sdf_block.spatial.sr = sr\n",
    "sdf_tract = sdf_census_geo.loc[(sdf_census_geo['YEAR'] == 2020) & (sdf_census_geo['GEOGRAPHY'] == 'Tract')]\n",
    "sdf_tract.spatial.sr = sr"
   ]
  },
  {
   "cell_type": "code",
   "execution_count": 1,
   "metadata": {},
   "outputs": [
    {
     "ename": "NameError",
     "evalue": "name 'get_fs_data' is not defined",
     "output_type": "error",
     "traceback": [
      "\u001b[1;31m---------------------------------------------------------------------------\u001b[0m",
      "\u001b[1;31mNameError\u001b[0m                                 Traceback (most recent call last)",
      "Cell \u001b[1;32mIn[1], line 3\u001b[0m\n\u001b[0;32m      1\u001b[0m \u001b[38;5;66;03m# bring in demogrpahic data\u001b[39;00m\n\u001b[0;32m      2\u001b[0m census_url \u001b[38;5;241m=\u001b[39m \u001b[38;5;124m'\u001b[39m\u001b[38;5;124mhttps://maps.trpa.org/server/rest/services/Demographics/MapServer/28\u001b[39m\u001b[38;5;124m'\u001b[39m\n\u001b[1;32m----> 3\u001b[0m df_census \u001b[38;5;241m=\u001b[39m get_fs_data(census_url)\n",
      "\u001b[1;31mNameError\u001b[0m: name 'get_fs_data' is not defined"
     ]
    }
   ],
   "source": [
    "# bring in demogrpahic data\n",
    "census_url = 'https://maps.trpa.org/server/rest/services/Demographics/MapServer/28'\n",
    "df_census = get_fs_data(census_url)"
   ]
  },
  {
   "cell_type": "markdown",
   "metadata": {},
   "source": [
    "# Generate a list of variables and geographies that we want to summarize at the parcel level"
   ]
  },
  {
   "cell_type": "code",
   "execution_count": null,
   "metadata": {},
   "outputs": [],
   "source": [
    "import numpy as np\n",
    "\n",
    "def calculate_occupancy_rates(df, year, occupancy_vars):\n",
    "    \"\"\"\n",
    "    Calculate occupancy and seasonal rates at the block group level.\n",
    "\n",
    "    Parameters:\n",
    "    df (pd.DataFrame): Census data with 'TRPAID', 'variable_code', 'value', and 'Year' columns.\n",
    "    year (int): The year of interest.\n",
    "    occupancy_vars (dict): A dictionary mapping descriptive variable names to census codes.\n",
    "                           Example: {\n",
    "                               'vacant_units': 'B25002_003E',\n",
    "                               'occupied_units': 'B25002_002E',\n",
    "                               'seasonal_units': 'B25004_006E'\n",
    "                           }\n",
    "\n",
    "    Returns:\n",
    "    pd.DataFrame: DataFrame with occupancy and seasonal rates.\n",
    "    \"\"\"\n",
    "    \n",
    "    # Filter data for selected year and census codes\n",
    "    df_filtered = df.query(\"variable_code in @occupancy_vars.values() and year_sample == @year\")\n",
    "    \n",
    "    # Pivot to wide format\n",
    "    df_pivot = df_filtered.pivot(index='TRPAID', columns='variable_code', values='value')\n",
    "    \n",
    "    # Rename columns based on the provided dictionary\n",
    "    df_pivot = df_pivot.rename(columns={v: k for k, v in occupancy_vars.items()})\n",
    "\n",
    "    # Calculate total units\n",
    "    df_pivot['total_units'] = df_pivot['vacant_units'] + df_pivot['occupied_units']\n",
    "\n",
    "    # Avoid division by zero\n",
    "    df_pivot['occupancy_rate'] = df_pivot['occupied_units'] / df_pivot['total_units'].replace(0, np.nan)\n",
    "    df_pivot['seasonal_rate'] = df_pivot['seasonal_units'] / df_pivot['total_units'].replace(0, np.nan)\n",
    "\n",
    "    # Reset index for clarity\n",
    "    return df_pivot.reset_index()\n"
   ]
  },
  {
   "cell_type": "code",
   "execution_count": null,
   "metadata": {},
   "outputs": [],
   "source": [
    "occupancy_codes = {\n",
    "    'vacant_units': 'B25002_003E',\n",
    "    'occupied_units': 'B25002_002E',\n",
    "    'seasonal_units': 'B25004_006E',\n",
    "    'household_size': 'B25010_001E'\n",
    "}\n",
    "# We should add population\n",
    "df_census = df_census.loc[df_census['sample_level'] == 'block group']\n",
    "df_occupancy = calculate_occupancy_rates(df_census, 2023, occupancy_codes)"
   ]
  },
  {
   "cell_type": "code",
   "execution_count": null,
   "metadata": {},
   "outputs": [],
   "source": [
    "with arcpy.EnvManager(outputZFlag=\"Disabled\"):\n",
    "    arcpy.conversion.FeatureClassToGeodatabase(\n",
    "        Input_Features=r\"F:\\GIS\\DB_CONNECT\\Vector.sde\\SDE.Census\\SDE.Tahoe_Census_Geography\",\n",
    "        Output_Geodatabase=r\"C:\\GIS\\Scratch.gdb\"\n",
    "    )\n",
    "\n",
    "sdf_block_noz = pd.DataFrame.spatial.from_featureclass('C:/GIS/Scratch.gdb/Tahoe_Census_Geography')\n",
    "sdf_block_noz = sdf_block_noz.loc[(sdf_block_noz['YEAR'] == 2020) & (sdf_block_noz['GEOGRAPHY'] == 'Block Group')]\n",
    "sdf_block_noz.spatial.sr = sr\n",
    "\n",
    "sdf_tract_noz = pd.DataFrame.spatial.from_featureclass('C:/GIS/Scratch.gdb/Tahoe_Census_Geography')\n",
    "sdf_tract_noz = sdf_tract_noz.loc[(sdf_tract_noz['YEAR'] == 2020) & (sdf_tract_noz['GEOGRAPHY'] == 'Tract')]    \n",
    "sdf_tract_noz.spatial.sr = sr"
   ]
  },
  {
   "cell_type": "code",
   "execution_count": null,
   "metadata": {},
   "outputs": [],
   "source": [
    "sdf_tract_noz = pd.DataFrame.spatial.from_featureclass('C:/GIS/Scratch.gdb/Tahoe_Census_Geography')\n",
    "sdf_tract_noz = sdf_tract_noz.loc[(sdf_tract_noz['YEAR'] == 2020) & (sdf_tract_noz['GEOGRAPHY'] == 'Tract')]    \n",
    "sdf_tract_noz.spatial.sr = sr"
   ]
  },
  {
   "cell_type": "code",
   "execution_count": null,
   "metadata": {},
   "outputs": [],
   "source": [
    "# set environement workspace to in memory \n",
    "arcpy.env.workspace = 'memory'"
   ]
  },
  {
   "cell_type": "code",
   "execution_count": null,
   "metadata": {},
   "outputs": [],
   "source": [
    "# spatial join to get Block Group\n",
    "arcpy.SpatialJoin_analysis(sdf_units, sdf_block_noz, \"Existing_Development_BlockGroup\", \n",
    "                           \"JOIN_ONE_TO_ONE\", \"KEEP_ALL\", \"\", \"HAVE_THEIR_CENTER_IN\")\n",
    "# spatial join to get Tract\n",
    "arcpy.SpatialJoin_analysis(sdf_units, sdf_tract_noz, \"Existing_Development_Tract\", \n",
    "                           \"JOIN_ONE_TO_ONE\", \"KEEP_ALL\", \"\", \"HAVE_THEIR_CENTER_IN\")"
   ]
  },
  {
   "cell_type": "code",
   "execution_count": null,
   "metadata": {},
   "outputs": [],
   "source": [
    "\n",
    "sdf_units_block = pd.DataFrame.spatial.from_featureclass(\"Existing_Development_BlockGroup\", sr=sr)\n",
    "sdf_units_tract = pd.DataFrame.spatial.from_featureclass(\"Existing_Development_Tract\", sr=sr)"
   ]
  },
  {
   "cell_type": "code",
   "execution_count": null,
   "metadata": {},
   "outputs": [],
   "source": [
    "sdfParcel = sdf_units"
   ]
  },
  {
   "cell_type": "code",
   "execution_count": null,
   "metadata": {},
   "outputs": [],
   "source": [
    "sdfParcel['BLOCK_GROUP']   = sdfParcel.APN.map(dict(zip(sdf_units_block.APN, sdf_units_block.TRPAID)))\n",
    "sdfParcel['TRACT']        = sdfParcel.APN.map(dict(zip(sdf_units_tract.APN, sdf_units_tract.TRPAID)))"
   ]
  },
  {
   "cell_type": "code",
   "execution_count": null,
   "metadata": {},
   "outputs": [],
   "source": [
    "sdfParcel.to_pickle('parcel_pickle_part1.pkl')"
   ]
  },
  {
   "cell_type": "code",
   "execution_count": null,
   "metadata": {},
   "outputs": [],
   "source": [
    "sdfParcel_2023 = sdfParcel.loc[sdfParcel['YEAR'] == 2023]"
   ]
  },
  {
   "cell_type": "code",
   "execution_count": null,
   "metadata": {},
   "outputs": [],
   "source": [
    "sdfParcel_2023['occupied_rate'] = sdfParcel_2023['BLOCK_GROUP'].map(dict(zip(df_occupancy.TRPAID, df_occupancy.occupancy_rate)))\n",
    "sdfParcel_2023['seasonal_rate'] = sdfParcel_2023['BLOCK_GROUP'].map(dict(zip(df_occupancy.TRPAID, df_occupancy.seasonal_rate)))\n",
    "sdfParcel_2023['household_size'] = sdfParcel_2023['BLOCK_GROUP'].map(dict(zip(df_occupancy.TRPAID, df_occupancy.household_size)))"
   ]
  },
  {
   "cell_type": "code",
   "execution_count": null,
   "metadata": {},
   "outputs": [],
   "source": [
    "sdfParcel_2023['occupied_units']=   sdfParcel_2023['occupied_rate'] * sdfParcel_2023['Residential_Units']\n",
    "sdfParcel_2023['seasonal_units']=  sdfParcel_2023['seasonal_rate'] * sdfParcel_2023['Residential_Units']\n",
    "sdfParcel_2023['num_of_residents'] = sdfParcel_2023['household_size'] * sdfParcel_2023['occupied_units']"
   ]
  },
  {
   "cell_type": "code",
   "execution_count": null,
   "metadata": {},
   "outputs": [],
   "source": [
    "tesselation = get_fs_data_spatial('https://maps.trpa.org/server/rest/services/Transportation_Equity_Analysis_Tessellation/FeatureServer/0')"
   ]
  },
  {
   "cell_type": "code",
   "execution_count": null,
   "metadata": {},
   "outputs": [],
   "source": [
    "# spatial join to get GRID_ID\n",
    "arcpy.SpatialJoin_analysis(sdf_units, tesselation, \"Existing_Development_Hex\", \n",
    "                           \"JOIN_ONE_TO_ONE\", \"KEEP_ALL\", \"\", \"HAVE_THEIR_CENTER_IN\")"
   ]
  },
  {
   "cell_type": "code",
   "execution_count": null,
   "metadata": {},
   "outputs": [],
   "source": [
    "sdf_units_hex = pd.DataFrame.spatial.from_featureclass(\"Existing_Development_Hex\", sr=sr)\n",
    "sdfParcel['GRID_ID']        = sdfParcel.APN.map(dict(zip(sdf_units_tract.APN, sdf_units_tract.TRPAID)))"
   ]
  },
  {
   "cell_type": "code",
   "execution_count": null,
   "metadata": {},
   "outputs": [],
   "source": [
    "sdfParcel_2023['GRID_ID'] = sdfParcel_2023.APN.map(dict(zip(sdf_units_hex.APN, sdf_units_hex.GRID_ID)))"
   ]
  },
  {
   "cell_type": "code",
   "execution_count": null,
   "metadata": {},
   "outputs": [],
   "source": [
    "# group by GRID_ID and sum the values for occupied_units, seasonal_units, and num_of_residents\n",
    "sdfParcel_2023_grouped = sdfParcel_2023.groupby('GRID_ID').agg({\n",
    "    'occupied_units': 'sum',\n",
    "    'seasonal_units': 'sum',\n",
    "    'num_of_residents': 'sum'\n",
    "}).reset_index()\n",
    "sdfParcel_2023_grouped['total_units'] = sdfParcel_2023_grouped['occupied_units'] + sdfParcel_2023_grouped['seasonal_units']\n",
    "sdfParcel_2023_grouped['occupied_unit_rate'] = sdfParcel_2023_grouped['occupied_units']/sdfParcel_2023_grouped['total_units'].replace(0, np.nan)\n",
    "sdfParcel_2023_grouped['seasonal_unit_rate'] = sdfParcel_2023_grouped['seasonal_units']/sdfParcel_2023_grouped['total_units'].replace(0, np.nan)"
   ]
  },
  {
   "cell_type": "code",
   "execution_count": null,
   "metadata": {},
   "outputs": [],
   "source": [
    "sdfParcel_2023_grouped['occupied_unit_rate'] = sdfParcel_2023_grouped['occupied_unit_rate'].fillna(0)\n",
    "sdfParcel_2023_grouped['seasonal_unit_rate'] = sdfParcel_2023_grouped['seasonal_unit_rate'].fillna(0)"
   ]
  },
  {
   "cell_type": "code",
   "execution_count": null,
   "metadata": {},
   "outputs": [],
   "source": [
    "tesselation_attributed = tesselation.merge(sdfParcel_2023_grouped, on='GRID_ID', how='left')\n",
    "tesselation_attributed['occupied_unit_rate'] = tesselation_attributed['occupied_unit_rate'].fillna(0)\n",
    "tesselation_attributed['seasonal_unit_rate'] = tesselation_attributed['seasonal_unit_rate'].fillna(0)\n",
    "tesselation_attributed['occupied_units'] = tesselation_attributed['occupied_units'].fillna(0)\n",
    "tesselation_attributed['seasonal_units'] = tesselation_attributed['seasonal_units'].fillna(0)\n",
    "tesselation_attributed['num_of_residents'] = tesselation_attributed['num_of_residents'].fillna(0)\n",
    "tesselation_attributed['total_units'] = tesselation_attributed['total_units'].fillna(0)"
   ]
  },
  {
   "cell_type": "code",
   "execution_count": null,
   "metadata": {},
   "outputs": [],
   "source": [
    "# export tesselation_attributed to a shapefile correctly\n",
    "output_path = 'C:\\GIS\\Scratch.gdb\\Tessellation_Attributed'   \n",
    "arcpy.management.CopyFeatures(tesselation_attributed, output_path)"
   ]
  },
  {
   "cell_type": "code",
   "execution_count": null,
   "metadata": {},
   "outputs": [],
   "source": [
    "# make a feature class from the centroid of tesselation attributed\n",
    "export_fc = 'C:\\GIS\\Scratch.gdb\\Tessellation_2023'\n",
    "arcpy.management.FeatureToPoint(tesselation_attributed, export_fc, \"CENTROID\")"
   ]
  },
  {
   "cell_type": "code",
   "execution_count": 47,
   "metadata": {},
   "outputs": [],
   "source": [
    "# import from csv\n",
    "disability_status = pd.read_csv('Lookup_Lists/disability_status.csv')\n",
    "# drop last character from variable code\n",
    "#disability_status['variable_code'] = disability_status['variable_code'].str[:-1]\n",
    "#disability_status['variable_code'] = disability_status['variable_code'].astype(str)\n",
    "#inner join with census data\n",
    "df_disability = df_census.merge(disability_status, on='variable_code', how='inner')\n"
   ]
  },
  {
   "cell_type": "code",
   "execution_count": 48,
   "metadata": {},
   "outputs": [],
   "source": [
    "df_disability_grouped = df_disability.groupby(['TRPAID', 'Disability']).agg({'value': 'sum'}).reset_index()"
   ]
  },
  {
   "cell_type": "code",
   "execution_count": 52,
   "metadata": {},
   "outputs": [],
   "source": [
    "df_disability_pivot = df_disability_grouped.pivot(index='TRPAID', columns='Disability', values='value').reset_index()\n",
    "# rename columns to disabilty_yes and disability_no\n",
    "\n",
    "# Rename the columns\n",
    "df_disability_pivot.columns.name = None  # Remove the name from the columns index\n",
    "df_disability_pivot = df_disability_pivot.rename(columns={True: 'disability_yes', False: 'disability_no'})\n",
    "# create a new column with the proportion of disability_yes to total\n",
    "df_disability_pivot['disability_yes'] = df_disability_pivot['disability_yes'].fillna(0)\n",
    "df_disability_pivot['disability_no'] = df_disability_pivot['disability_no'].fillna(0)   \n",
    "df_disability_pivot['disability_rate'] = df_disability_pivot['disability_yes']/(df_disability_pivot['disability_no'] + df_disability_pivot['disability_yes']).replace(0, np.nan)\n",
    "df_disability_pivot['disability_rate'] = df_disability_pivot['disability_rate'].fillna(0)\n",
    "# merge with tesselation_attributed "
   ]
  },
  {
   "cell_type": "code",
   "execution_count": 53,
   "metadata": {},
   "outputs": [
    {
     "name": "stderr",
     "output_type": "stream",
     "text": [
      "C:\\Users\\amcclary\\AppData\\Local\\Temp\\ipykernel_22148\\541034960.py:1: SettingWithCopyWarning: \n",
      "A value is trying to be set on a copy of a slice from a DataFrame.\n",
      "Try using .loc[row_indexer,col_indexer] = value instead\n",
      "\n",
      "See the caveats in the documentation: https://pandas.pydata.org/pandas-docs/stable/user_guide/indexing.html#returning-a-view-versus-a-copy\n",
      "  sdfParcel_2023['disability_rate'] = sdfParcel_2023['TRACT'].map(dict(zip(df_disability_pivot.TRPAID, df_disability_pivot.disability_rate)))\n",
      "C:\\Users\\amcclary\\AppData\\Local\\Temp\\ipykernel_22148\\541034960.py:2: SettingWithCopyWarning: \n",
      "A value is trying to be set on a copy of a slice from a DataFrame.\n",
      "Try using .loc[row_indexer,col_indexer] = value instead\n",
      "\n",
      "See the caveats in the documentation: https://pandas.pydata.org/pandas-docs/stable/user_guide/indexing.html#returning-a-view-versus-a-copy\n",
      "  sdfParcel_2023['disability_yes'] = sdfParcel_2023['TRACT'].map(dict(zip(df_disability_pivot.TRPAID, df_disability_pivot.disability_yes)))\n"
     ]
    }
   ],
   "source": [
    "sdfParcel_2023['disability_rate'] = sdfParcel_2023['TRACT'].map(dict(zip(df_disability_pivot.TRPAID, df_disability_pivot.disability_rate)))\n",
    "sdfParcel_2023['disability_yes'] = sdfParcel_2023['TRACT'].map(dict(zip(df_disability_pivot.TRPAID, df_disability_pivot.disability_yes)))"
   ]
  },
  {
   "cell_type": "code",
   "execution_count": null,
   "metadata": {},
   "outputs": [],
   "source": [
    "df_BIPOC = df_census "
   ]
  },
  {
   "cell_type": "code",
   "execution_count": null,
   "metadata": {},
   "outputs": [],
   "source": [
    "# import from csv\n",
    "disability_status = pd.read_csv('Lookup_Lists/disability_status.csv')\n",
    "# drop last character from variable code\n",
    "#disability_status['variable_code'] = disability_status['variable_code'].str[:-1]\n",
    "#disability_status['variable_code'] = disability_status['variable_code'].astype(str)\n",
    "#inner join with census data\n",
    "df_disability = df_census.merge(disability_status, on='variable_code', how='inner')\n",
    "df_disability_grouped = df_disability.groupby(['TRPAID', 'Disability']).agg({'value': 'sum'}).reset_index()\n",
    "df_disability_pivot = df_disability_grouped.pivot(index='TRPAID', columns='Disability', values='value').reset_index()\n",
    "# rename columns to disabilty_yes and disability_no\n",
    "\n",
    "# Rename the columns\n",
    "df_disability_pivot.columns.name = None  # Remove the name from the columns index\n",
    "df_disability_pivot = df_disability_pivot.rename(columns={True: 'disability_yes', False: 'disability_no'})\n",
    "# create a new column with the proportion of disability_yes to total\n",
    "df_disability_pivot['disability_yes'] = df_disability_pivot['disability_yes'].fillna(0)\n",
    "df_disability_pivot['disability_no'] = df_disability_pivot['disability_no'].fillna(0)   \n",
    "df_disability_pivot['disability_rate'] = df_disability_pivot['disability_yes']/(df_disability_pivot['disability_no'] + df_disability_pivot['disability_yes']).replace(0, np.nan)\n",
    "df_disability_pivot['disability_rate'] = df_disability_pivot['disability_rate'].fillna(0)"
   ]
  },
  {
   "cell_type": "code",
   "execution_count": 54,
   "metadata": {},
   "outputs": [],
   "source": [
    "import pandas as pd\n",
    "import numpy as np\n",
    "\n",
    "def calculate_rate_from_lookup(df_census, lookup_csv, group_col, new_col_names):\n",
    "    \"\"\"\n",
    "    Calculates group-based rates from census data and a lookup CSV.\n",
    "\n",
    "    Parameters:\n",
    "        df_census (pd.DataFrame): The main census DataFrame.\n",
    "        lookup_csv (str): Path to the lookup list CSV.\n",
    "        group_col (str): Column name from the lookup to group by (e.g., 'Disability').\n",
    "        new_col_names (dict): Dictionary to rename the boolean columns (e.g., {True: 'disability_yes', False: 'disability_no'}).\n",
    "\n",
    "    Returns:\n",
    "        pd.DataFrame: Pivoted DataFrame with rates.\n",
    "    \"\"\"\n",
    "    # Load lookup CSV\n",
    "    lookup_df = pd.read_csv(lookup_csv)\n",
    "\n",
    "    # Merge with census data\n",
    "    df_merged = df_census.merge(lookup_df, on='variable_code', how='inner')\n",
    "\n",
    "    # Group and aggregate values\n",
    "    df_grouped = df_merged.groupby(['TRPAID', group_col])['value'].sum().reset_index()\n",
    "\n",
    "    # Pivot to wide format\n",
    "    df_pivot = df_grouped.pivot(index='TRPAID', columns=group_col, values='value').reset_index()\n",
    "\n",
    "    # Clean and rename columns\n",
    "    df_pivot.columns.name = None\n",
    "    df_pivot = df_pivot.rename(columns=new_col_names)\n",
    "\n",
    "    # Fill NaNs with 0\n",
    "    for col in new_col_names.values():\n",
    "        if col in df_pivot.columns:\n",
    "            df_pivot[col] = df_pivot[col].fillna(0)\n",
    "        else:\n",
    "            df_pivot[col] = 0  # Add missing columns if needed\n",
    "\n",
    "    # Calculate rate\n",
    "    df_pivot['rate'] = df_pivot['bipoc_yes']/df_pivot[list(new_col_names.values())].sum(axis=1)\n",
    "\n",
    "    return df_pivot\n"
   ]
  },
  {
   "cell_type": "code",
   "execution_count": 58,
   "metadata": {},
   "outputs": [],
   "source": [
    "df_census_2023_bg = df_census.loc[df_census['sample_level'] == 'block group']\n",
    "df_census_2023_bg = df_census_2023_bg.loc[df_census_2023_bg['year_sample'] == 2023]\n",
    "df_bipoc = calculate_rate_from_lookup(\n",
    "    df_census_2023_bg,\n",
    "    'Lookup_Lists/Bipoc_Variables.csv',\n",
    "    'BIPOC',\n",
    "    {'Yes': 'bipoc_yes', 'No': 'bipoc_no'}\n",
    ")"
   ]
  },
  {
   "cell_type": "code",
   "execution_count": 75,
   "metadata": {},
   "outputs": [
    {
     "name": "stderr",
     "output_type": "stream",
     "text": [
      "C:\\Users\\amcclary\\AppData\\Local\\Temp\\ipykernel_22148\\1185533033.py:1: SettingWithCopyWarning: \n",
      "A value is trying to be set on a copy of a slice from a DataFrame.\n",
      "Try using .loc[row_indexer,col_indexer] = value instead\n",
      "\n",
      "See the caveats in the documentation: https://pandas.pydata.org/pandas-docs/stable/user_guide/indexing.html#returning-a-view-versus-a-copy\n",
      "  sdfParcel_2023['bipoc_yes'] = sdfParcel_2023['BLOCK_GROUP'].map(dict(zip(df_bipoc.TRPAID, df_bipoc.bipoc_yes)))\n",
      "C:\\Users\\amcclary\\AppData\\Local\\Temp\\ipykernel_22148\\1185533033.py:2: SettingWithCopyWarning: \n",
      "A value is trying to be set on a copy of a slice from a DataFrame.\n",
      "Try using .loc[row_indexer,col_indexer] = value instead\n",
      "\n",
      "See the caveats in the documentation: https://pandas.pydata.org/pandas-docs/stable/user_guide/indexing.html#returning-a-view-versus-a-copy\n",
      "  sdfParcel_2023['bipoc_rate'] = sdfParcel_2023['BLOCK_GROUP'].map(dict(zip(df_bipoc.TRPAID, df_bipoc.rate)))\n"
     ]
    }
   ],
   "source": [
    "sdfParcel_2023['bipoc_yes'] = sdfParcel_2023['BLOCK_GROUP'].map(dict(zip(df_bipoc.TRPAID, df_bipoc.bipoc_yes)))\n",
    "sdfParcel_2023['bipoc_rate'] = sdfParcel_2023['BLOCK_GROUP'].map(dict(zip(df_bipoc.TRPAID, df_bipoc.rate)))"
   ]
  },
  {
   "cell_type": "code",
   "execution_count": 77,
   "metadata": {},
   "outputs": [
    {
     "name": "stderr",
     "output_type": "stream",
     "text": [
      "C:\\Users\\amcclary\\AppData\\Local\\Temp\\ipykernel_22148\\4121358557.py:11: SettingWithCopyWarning: \n",
      "A value is trying to be set on a copy of a slice from a DataFrame.\n",
      "Try using .loc[row_indexer,col_indexer] = value instead\n",
      "\n",
      "See the caveats in the documentation: https://pandas.pydata.org/pandas-docs/stable/user_guide/indexing.html#returning-a-view-versus-a-copy\n",
      "  sdfParcel_2023['owner_issue_rate'] = sdfParcel_2023['TRACT'].map(dict(zip(df_chas_housing.TRPAID, df_chas_housing.owner_issue_rate)))\n",
      "C:\\Users\\amcclary\\AppData\\Local\\Temp\\ipykernel_22148\\4121358557.py:12: SettingWithCopyWarning: \n",
      "A value is trying to be set on a copy of a slice from a DataFrame.\n",
      "Try using .loc[row_indexer,col_indexer] = value instead\n",
      "\n",
      "See the caveats in the documentation: https://pandas.pydata.org/pandas-docs/stable/user_guide/indexing.html#returning-a-view-versus-a-copy\n",
      "  sdfParcel_2023['renter_issue_rate'] = sdfParcel_2023['TRACT'].map(dict(zip(df_chas_housing.TRPAID, df_chas_housing.renter_issue_rate)))\n",
      "C:\\Users\\amcclary\\AppData\\Local\\Temp\\ipykernel_22148\\4121358557.py:13: SettingWithCopyWarning: \n",
      "A value is trying to be set on a copy of a slice from a DataFrame.\n",
      "Try using .loc[row_indexer,col_indexer] = value instead\n",
      "\n",
      "See the caveats in the documentation: https://pandas.pydata.org/pandas-docs/stable/user_guide/indexing.html#returning-a-view-versus-a-copy\n",
      "  sdfParcel_2023['housing_issues_renter'] = sdfParcel_2023['renter_issue_rate'] * sdfParcel_2023['occupied_units']\n",
      "C:\\Users\\amcclary\\AppData\\Local\\Temp\\ipykernel_22148\\4121358557.py:14: SettingWithCopyWarning: \n",
      "A value is trying to be set on a copy of a slice from a DataFrame.\n",
      "Try using .loc[row_indexer,col_indexer] = value instead\n",
      "\n",
      "See the caveats in the documentation: https://pandas.pydata.org/pandas-docs/stable/user_guide/indexing.html#returning-a-view-versus-a-copy\n",
      "  sdfParcel_2023['housing_issues_owner'] = sdfParcel_2023['owner_issue_rate'] * sdfParcel_2023['occupied_units']\n"
     ]
    }
   ],
   "source": [
    "df_chas_housing = pd.read_csv('Dowloaded_Data/chas_housing_issues.csv')\n",
    "df_chas_housing['TRPAID']= df_chas_housing['TRPAID'].astype(str)\n",
    "# If trpaid is less than 10 digits, add leading zeros\n",
    "df_chas_housing['TRPAID'] = df_chas_housing['TRPAID'].str.zfill(15)\n",
    "#Calculate rates so that they can be multiplied by the number of occupied units\n",
    "df_chas_housing['housing_issues_total'] = df_chas_housing['Housing_Issues_Yes_Owner'] + df_chas_housing['Housing_Issue_No_Owner'] + df_chas_housing['Housing_Issue_Yes_Renter'] + df_chas_housing['Housing_Issue_No_Renter']\n",
    "df_chas_housing['owner_issue_rate']= df_chas_housing['Housing_Issues_Yes_Owner']/df_chas_housing['housing_issues_total'].replace(0, np.nan)\n",
    "df_chas_housing['renter_issue_rate']= df_chas_housing['Housing_Issue_Yes_Renter']/df_chas_housing['housing_issues_total'].replace(0, np.nan)\n",
    "df_chas_housing['owner_issue_rate'] = df_chas_housing['owner_issue_rate'].fillna(0)\n",
    "df_chas_housing['renter_issue_rate'] = df_chas_housing['renter_issue_rate'].fillna(0)\n",
    "sdfParcel_2023['owner_issue_rate'] = sdfParcel_2023['TRACT'].map(dict(zip(df_chas_housing.TRPAID, df_chas_housing.owner_issue_rate)))\n",
    "sdfParcel_2023['renter_issue_rate'] = sdfParcel_2023['TRACT'].map(dict(zip(df_chas_housing.TRPAID, df_chas_housing.renter_issue_rate)))\n",
    "sdfParcel_2023['housing_issues_renter'] = sdfParcel_2023['renter_issue_rate'] * sdfParcel_2023['occupied_units']\n",
    "sdfParcel_2023['housing_issues_owner'] = sdfParcel_2023['owner_issue_rate'] * sdfParcel_2023['occupied_units']"
   ]
  },
  {
   "cell_type": "code",
   "execution_count": null,
   "metadata": {},
   "outputs": [],
   "source": [
    "# going to have to go back and redo all of this for 2021 since that's when the CHAS data is from   "
   ]
  },
  {
   "cell_type": "code",
   "execution_count": 76,
   "metadata": {},
   "outputs": [
    {
     "name": "stderr",
     "output_type": "stream",
     "text": [
      "C:\\Users\\amcclary\\AppData\\Local\\Temp\\ipykernel_22148\\259334877.py:1: SettingWithCopyWarning: \n",
      "A value is trying to be set on a copy of a slice from a DataFrame.\n",
      "Try using .loc[row_indexer,col_indexer] = value instead\n",
      "\n",
      "See the caveats in the documentation: https://pandas.pydata.org/pandas-docs/stable/user_guide/indexing.html#returning-a-view-versus-a-copy\n",
      "  sdfParcel_2023['bipoc_number'] = sdfParcel_2023['bipoc_rate'] * sdfParcel_2023['num_of_residents']\n",
      "C:\\Users\\amcclary\\AppData\\Local\\Temp\\ipykernel_22148\\259334877.py:2: SettingWithCopyWarning: \n",
      "A value is trying to be set on a copy of a slice from a DataFrame.\n",
      "Try using .loc[row_indexer,col_indexer] = value instead\n",
      "\n",
      "See the caveats in the documentation: https://pandas.pydata.org/pandas-docs/stable/user_guide/indexing.html#returning-a-view-versus-a-copy\n",
      "  sdfParcel_2023['disability_number'] = sdfParcel_2023['disability_rate'] * sdfParcel_2023['num_of_residents']\n"
     ]
    }
   ],
   "source": [
    "sdfParcel_2023['bipoc_number'] = sdfParcel_2023['bipoc_rate'] * sdfParcel_2023['num_of_residents']\n",
    "sdfParcel_2023['disability_number'] = sdfParcel_2023['disability_rate'] * sdfParcel_2023['num_of_residents']"
   ]
  },
  {
   "cell_type": "code",
   "execution_count": 79,
   "metadata": {},
   "outputs": [],
   "source": [
    "# group by GRID_ID and sum the values for occupied_units, seasonal_units, and num_of_residents\n",
    "sdfParcel_2023_grouped = sdfParcel_2023.groupby('GRID_ID').agg({\n",
    "    'occupied_units': 'sum',\n",
    "    'seasonal_units': 'sum',\n",
    "    'num_of_residents': 'sum',\n",
    "    'bipoc_number': 'sum',\n",
    "    'disability_number': 'sum',\n",
    "    'housing_issues_renter': 'sum',\n",
    "    'housing_issues_owner': 'sum',\n",
    "}).reset_index()\n",
    "sdfParcel_2023_grouped['total_units'] = sdfParcel_2023_grouped['occupied_units'] + sdfParcel_2023_grouped['seasonal_units']\n",
    "sdfParcel_2023_grouped['occupied_unit_rate'] = sdfParcel_2023_grouped['occupied_units']/sdfParcel_2023_grouped['total_units'].replace(0, np.nan)\n",
    "sdfParcel_2023_grouped['seasonal_unit_rate'] = sdfParcel_2023_grouped['seasonal_units']/sdfParcel_2023_grouped['total_units'].replace(0, np.nan)\n",
    "sdfParcel_2023_grouped['occupied_unit_rate'] = sdfParcel_2023_grouped['occupied_unit_rate'].fillna(0)\n",
    "sdfParcel_2023_grouped['seasonal_unit_rate'] = sdfParcel_2023_grouped['seasonal_unit_rate'].fillna(0)\n",
    "sdfParcel_2023_grouped['occupied_units'] = sdfParcel_2023_grouped['occupied_units'].fillna(0)\n",
    "sdfParcel_2023_grouped['seasonal_units'] = sdfParcel_2023_grouped['seasonal_units'].fillna(0)\n",
    "sdfParcel_2023_grouped['num_of_residents'] = sdfParcel_2023_grouped['num_of_residents'].fillna(0)\n",
    "sdfParcel_2023_grouped['bipoc_number'] = sdfParcel_2023_grouped['bipoc_number'].fillna(0)\n",
    "sdfParcel_2023_grouped['disability_number'] = sdfParcel_2023_grouped['disability_number'].fillna(0)\n",
    "sdfParcel_2023_grouped['housing_issues_renter'] = sdfParcel_2023_grouped['housing_issues_renter'].fillna(0)\n",
    "sdfParcel_2023_grouped['housing_issues_owner'] = sdfParcel_2023_grouped['housing_issues_owner'].fillna(0)\n",
    "sdfParcel_2023_grouped['bipoc_rate'] = sdfParcel_2023_grouped['bipoc_number']/sdfParcel_2023_grouped['num_of_residents'].replace(0, np.nan)\n",
    "sdfParcel_2023_grouped['disability_rate'] = sdfParcel_2023_grouped['disability_number']/sdfParcel_2023_grouped['num_of_residents'].replace(0, np.nan)\n",
    "sdfParcel_2023_grouped['housing_issues_rate_renter'] = sdfParcel_2023_grouped['housing_issues_renter']/sdfParcel_2023_grouped['occupied_units'].replace(0, np.nan)\n",
    "sdfParcel_2023_grouped['housing_issues_rate_owner'] = sdfParcel_2023_grouped['housing_issues_owner']/sdfParcel_2023_grouped['occupied_units'].replace(0, np.nan)\n",
    "# fillna with 0\n",
    "sdfParcel_2023_grouped['bipoc_rate'] = sdfParcel_2023_grouped['bipoc_rate'].fillna(0)\n",
    "sdfParcel_2023_grouped['disability_rate'] = sdfParcel_2023_grouped['disability_rate'].fillna(0)\n",
    "sdfParcel_2023_grouped['housing_issues_rate_renter'] = sdfParcel_2023_grouped['housing_issues_rate_renter'].fillna(0)\n",
    "sdfParcel_2023_grouped['housing_issues_rate_owner'] = sdfParcel_2023_grouped['housing_issues_rate_owner'].fillna(0)"
   ]
  },
  {
   "cell_type": "code",
   "execution_count": 81,
   "metadata": {},
   "outputs": [
    {
     "data": {
      "text/plain": [
       "'C:\\\\GIS\\\\Scratch.gdb\\\\Tessellation_Attributed_Full'"
      ]
     },
     "execution_count": 81,
     "metadata": {},
     "output_type": "execute_result"
    }
   ],
   "source": [
    "tesselation_attributed = tesselation.merge(sdfParcel_2023_grouped, on='GRID_ID', how='left')\n",
    "tesselation_attributed['occupied_unit_rate'] = tesselation_attributed['occupied_unit_rate'].fillna(0)\n",
    "tesselation_attributed['seasonal_unit_rate'] = tesselation_attributed['seasonal_unit_rate'].fillna(0)\n",
    "tesselation_attributed['occupied_units'] = tesselation_attributed['occupied_units'].fillna(0)\n",
    "tesselation_attributed['seasonal_units'] = tesselation_attributed['seasonal_units'].fillna(0)\n",
    "tesselation_attributed['num_of_residents'] = tesselation_attributed['num_of_residents'].fillna(0)\n",
    "tesselation_attributed['total_units'] = tesselation_attributed['total_units'].fillna(0)\n",
    "tesselation_attributed['bipoc_number'] = tesselation_attributed['bipoc_number'].fillna(0)\n",
    "tesselation_attributed['disability_number'] = tesselation_attributed['disability_number'].fillna(0)\n",
    "tesselation_attributed['housing_issues_renter'] = tesselation_attributed['housing_issues_renter'].fillna(0)\n",
    "tesselation_attributed['housing_issues_owner'] = tesselation_attributed['housing_issues_owner'].fillna(0)\n",
    "tesselation_attributed['bipoc_rate'] = tesselation_attributed['bipoc_rate'].fillna(0)\n",
    "tesselation_attributed['disability_rate'] = tesselation_attributed['disability_rate'].fillna(0)\n",
    "tesselation_attributed['housing_issues_rate_renter'] = tesselation_attributed['housing_issues_rate_renter'].fillna(0)\n",
    "tesselation_attributed['housing_issues_rate_owner'] = tesselation_attributed['housing_issues_rate_owner'].fillna(0)\n",
    "# export tesselation_attributed to a shapefile correctly\n",
    "output_path = 'C:\\GIS\\Scratch.gdb\\Tessellation_Attributed_Full'\n",
    "arcpy.management.CopyFeatures(tesselation_attributed, output_path)"
   ]
  },
  {
   "cell_type": "code",
   "execution_count": 82,
   "metadata": {},
   "outputs": [
    {
     "data": {
      "text/plain": [
       "'C:\\\\GIS\\\\Scratch.gdb\\\\Tessellation_2023_point'"
      ]
     },
     "execution_count": 82,
     "metadata": {},
     "output_type": "execute_result"
    }
   ],
   "source": [
    "# make a feature class from the centroid of tesselation attributed\n",
    "export_fc = 'C:\\GIS\\Scratch.gdb\\Tessellation_2023_point'\n",
    "arcpy.management.FeatureToPoint(tesselation_attributed, export_fc, \"CENTROID\")"
   ]
  }
 ],
 "metadata": {
  "kernelspec": {
   "display_name": "Python 3",
   "language": "python",
   "name": "python3"
  },
  "language_info": {
   "codemirror_mode": {
    "name": "ipython",
    "version": 3
   },
   "file_extension": ".py",
   "mimetype": "text/x-python",
   "name": "python",
   "nbconvert_exporter": "python",
   "pygments_lexer": "ipython3",
   "version": "3.11.10"
  }
 },
 "nbformat": 4,
 "nbformat_minor": 2
}
